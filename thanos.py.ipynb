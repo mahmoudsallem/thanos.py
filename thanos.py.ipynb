{
 "cells": [
  {
   "cell_type": "code",
   "execution_count": 8,
   "metadata": {},
   "outputs": [],
   "source": [
    "from  os import *\n",
    "from  random import *\n",
    "\n",
    "chdir(r\"C:\\Users\\7ouda\\Desktop\\lecturs_epsilon\")\n",
    "\n",
    "def list_univers(plase):\n",
    "    univers = listdir(plase)\n",
    "    return univers\n",
    "\n",
    "\n",
    "def thanod (univers):\n",
    "    half_of_univers=int(len(univers) / 2)\n",
    "    for i in range(half_of_univers):\n",
    "        univers = list_univers(\"Universe/\") \n",
    "        remove(\"Universe/\" + choice(univers))\n",
    "    print(\"the filles deleted \")\n",
    "\n"
   ]
  },
  {
   "cell_type": "code",
   "execution_count": 9,
   "metadata": {},
   "outputs": [],
   "source": [
    "univers = list_univers(\"Universe/\")"
   ]
  },
  {
   "cell_type": "code",
   "execution_count": 10,
   "metadata": {},
   "outputs": [
    {
     "name": "stdout",
     "output_type": "stream",
     "text": [
      "['cover001.png', 'cover002.png', 'cover003.png', 'cover004.png', 'cover005.png', 'cover006.png', 'cover007.png', 'cover008.png', 'cover009.png', 'cover010.png', 'cover011.png', 'cover012.png', 'cover013.png', 'cover014.png', 'cover015.png', 'cover016.png', 'cover017.png', 'cover018.png', 'cover019.png', 'cover020.png', 'cover021.png', 'cover022.png', 'cover023.png', 'cover024.png', 'cover025.png', 'cover026.png', 'cover027.png', 'cover028.png', 'cover029.png', 'cover030.png', 'cover031.png', 'cover032.png', 'cover033.png', 'cover034.png', 'cover035.png', 'cover036.png', 'cover037.png', 'cover038.png', 'cover039.png', 'cover040.png', 'cover041.png', 'cover042.png', 'cover043.png', 'cover044.png', 'cover045.png', 'cover046.png', 'cover047.png', 'cover048.png', 'cover049.png', 'cover050.png']\n"
     ]
    }
   ],
   "source": [
    "print(univers)"
   ]
  },
  {
   "cell_type": "code",
   "execution_count": 11,
   "metadata": {},
   "outputs": [
    {
     "name": "stdout",
     "output_type": "stream",
     "text": [
      "the filles deleted \n"
     ]
    }
   ],
   "source": [
    "thanod(univers)"
   ]
  },
  {
   "cell_type": "code",
   "execution_count": 12,
   "metadata": {},
   "outputs": [],
   "source": [
    "NewUnivers = list_univers(\"Universe/\")"
   ]
  },
  {
   "cell_type": "code",
   "execution_count": 13,
   "metadata": {},
   "outputs": [
    {
     "name": "stdout",
     "output_type": "stream",
     "text": [
      "25\n"
     ]
    }
   ],
   "source": [
    "print(len(NewUnivers))"
   ]
  },
  {
   "cell_type": "code",
   "execution_count": null,
   "metadata": {},
   "outputs": [],
   "source": []
  },
  {
   "cell_type": "code",
   "execution_count": null,
   "metadata": {},
   "outputs": [],
   "source": []
  }
 ],
 "metadata": {
  "kernelspec": {
   "display_name": "Python 3",
   "language": "python",
   "name": "python3"
  },
  "language_info": {
   "codemirror_mode": {
    "name": "ipython",
    "version": 3
   },
   "file_extension": ".py",
   "mimetype": "text/x-python",
   "name": "python",
   "nbconvert_exporter": "python",
   "pygments_lexer": "ipython3",
   "version": "3.8.5"
  }
 },
 "nbformat": 4,
 "nbformat_minor": 4
}
